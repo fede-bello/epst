{
 "cells": [
  {
   "cell_type": "markdown",
   "metadata": {
    "id": "iMev4psTBNhc"
   },
   "source": [
    "# Trabajo 1 \n",
    "## Estimación y Predicción en Series Temporales \n",
    "## Año 2024\n",
    "\n",
    "### Datos del estudiante\n",
    "\n",
    "*   **Nombre:** COMPLETAR\n",
    "*   **Cédula:** COMPLETAR\n",
    "*   **Firma:** (imagen o firma digital)\n",
    "\n",
    "\n",
    "<hr>\n",
    "\n",
    "**Nota:** Para trabajar, hágase una copia propia de este notebook en su espacio de Google Drive, o bien descárguese el archivo `.ipynb` y trabaje localmente con jupyter. \n",
    "\n",
    "<hr>\n",
    "\n",
    "## Aclaraciones\n",
    "\n",
    "El objetivo del trabajo es mostrar que el estudiante es capaz de resolver una serie de problemas teóricos e implementar y analizar una serie de problemas prácticos. En el primer caso, es fundamental justificar cualquier paso no trivial de la resolución. En el caso de problemas prácticos, es fundamental analizar y comentar todo resultado que se obtenga.\n",
    "\n",
    "### Autoría\n",
    "\n",
    "Esta es una tarea _individual_. Sus ejercicios deben ser resueltos por el estudiante cuyo nombre, cédula y firma se especifican al comienzo de este documento.\n",
    "\n",
    "No es admisible la realización colectiva de ninguno de los ejercicios ni sus partes. Tampoco es admisible la búsqueda y/o reutilización, total o parcial, de material en Internet u otros medios, así como entregas disponibles de años anteriores.\n",
    "\n",
    "Sí es admisible y aconsejable consultar, cotejar, e intercambiar ideas y sugerencias con otros estudiantes,  utilizar material de referencia tales como: documentación sobre lenguajes de programación, resultados, definiciones y propiedades matemáticas, incluyendo todo el material expuesto en este curso, tanto teórico como práctico. \n",
    "\n",
    "También es admisible la reproducción e inclusión de recetas y código relacionado con aspectos auxiliares, tales como el graficado de funciones, etc., que no hacen al objetivo de los ejercicios. \n",
    "\n",
    "### Sanciones\n",
    "\n",
    "Cualquier violación a las anteriores reglas constituye una _falta disciplinaria_. En primera instancia, dicha falta implica la pérdida de los puntos del obligatorio en su totalidad. En caso de reincidencia, se desvinculará al estudiante del curso y quedará registrado como reprobado.\n",
    "\n",
    "### Conformidad\n",
    "\n",
    "Mediante la entrega de este informa firmado, dejo constancia de que:\n",
    "\n",
    "i) He leído y estoy de acuerdo con lo anteriormente expuesto.   \n",
    "ii) He resuelto por mi propia cuenta los ejercicios, sin recurrir a trabajos de otros compañeros, o soluciones existentes.   \n",
    "iii) No se incluyen partes ni fragmentos tomados de otras fuentes, salvo las excepciones mencionadas.\n"
   ]
  },
  {
   "cell_type": "markdown",
   "metadata": {
    "id": "FhLJpIUZBNhi"
   },
   "source": [
    "## Ejercicio 1: introducción a los estimadores (30pts)\n"
   ]
  },
  {
   "cell_type": "markdown",
   "metadata": {
    "id": "8erT5J9OBNhi"
   },
   "source": [
    "Considere las observaciones\n",
    "\n",
    "$$x(n) = A + w(n); \\quad n=0,1,\\dots,N-1$$\n",
    "\n",
    "donde $A \\in \\mathbb{R}$ es un parámetro desconocido y $w(n)$ es ruido blanco gaussiano ($w(n) \\sim N(0,\\sigma ^2)$). Considere el estimador de $A$ dado por la media muestral:\n",
    "\n",
    "$$\\hat{A} = \\frac{1}{N} \\sum_{n=0}^{N-1} x[n]$$\n",
    "\n",
    "## Ejercicio 1.1\n",
    "\n",
    "Mostrar que $\\hat{A} \\sim  \\mathcal{N}(A,\\sigma ^2/N)$. Se sugiere utilizar las propiedades conocidas de sumas de variables aleatorias independientes, esperanza y varianza."
   ]
  },
  {
   "cell_type": "markdown",
   "metadata": {
    "id": "zIyHnhMzBNhi"
   },
   "source": [
    "<hr> \n",
    "<p style=\"font-size:16px; color:#BB0000;\">Respuesta (texto):</p>\n",
    "\n",
    "\n",
    "<hr>"
   ]
  },
  {
   "cell_type": "markdown",
   "metadata": {
    "id": "uZ3tfOQfBNhj"
   },
   "source": [
    "Con el objetivo de verificar de forma práctica el resultado anterior se propone la siguiente simulación:  \n",
    "\n",
    "1.   Generar $N=20$ observaciones de $x[n]$, con $A=10$ y $\\sigma^2=1$. Se sugiere utilizar la biblioteca `numpy.random` para generar números pseudoaleatorios de alta calidad. \n",
    "1.   Calcular el estimador $\\hat{A}$. Se sugiere utilizar la función `numpy.mean`.\n",
    "1.   Calcular el estimador $\\breve{A}=x[0]$\n",
    "\n"
   ]
  },
  {
   "cell_type": "markdown",
   "metadata": {
    "id": "ORXLNEi3BNhj"
   },
   "source": [
    "### Ejercicio 1.2\n",
    "\n",
    "Complete el siguiente código de modo que:\n",
    "   1. Repita los pasos 1, 2 y 3 $M=1000$ veces.  \n",
    "   1. Calcular la media y la varianza empíricas de cada estimador.  \n",
    "   1. Mostrar el histograma para ambos estimadores  \n",
    "\n",
    "Importante: **Comente los resultados**\n"
   ]
  },
  {
   "cell_type": "code",
   "execution_count": null,
   "metadata": {
    "id": "xu1WgC15BNhj"
   },
   "outputs": [],
   "source": [
    "#\n",
    "# cálculo\n",
    "#\n",
    "import numpy as np\n",
    "from numpy import random\n",
    "#\n",
    "# graficado\n",
    "#\n",
    "import matplotlib.pyplot as plt\n",
    "\n",
    "#\n",
    "# parámetros del problema\n",
    "#\n",
    "semilla = 42\n",
    "rng = random.default_rng(semilla)\n",
    "\n",
    "N = 20            # cantidad de muestras\n",
    "A = 1             # valor real del parámetro\n",
    "sigma  = 1        # desviación estándar\n",
    "sigma2 = sigma**2 # varianza (conocida)\n",
    "M = 1000\n",
    "\n",
    "#\n",
    "# 1. Generar observaciones\n",
    "#\n",
    "A_gorro = np.empty(M)\n",
    "A_cuerno = np.empty(M)\n",
    "for i in range(M):\n",
    "    x = rng.normal(loc=0, scale=sigma, size=N)\n",
    "    #\n",
    "    # 2. Calcular la media e imprimirla\n",
    "    # \n",
    "    A_gorro[i]  = # completar\n",
    "    A_cuerno[i] = # completar\n",
    "#\n",
    "# calcular media y varianza empíricas de ambos estimadores\n",
    "#\n",
    "A_gorro_media  = # completar\n",
    "A_gorro_var    = # completar\n",
    "A_cuerno_media = # completar\n",
    "A_cuerno_var   = #completar\n",
    "#\n",
    "# generar y mostrar histograma de A_gorro y A_cuerno\n",
    "#\n",
    "plt.figure(figsize=(10, 5))\n",
    "bins = np.arange(-4,4,step=0.1)\n",
    "plt.hist(A_gorro, bins = bins, label='media', alpha=0.5)\n",
    "plt.hist(A_cuerno, bins = bins, label='primera muestra', alpha=0.5)\n",
    "plt.ylabel('frecuencia')\n",
    "plt.xlabel('valor')\n",
    "plt.legend()\n",
    "plt.show()\n"
   ]
  },
  {
   "cell_type": "markdown",
   "metadata": {
    "id": "MjJvpvGLBNhk"
   },
   "source": [
    "<hr> \n",
    "<p style=\"font-size:16px; color:#BB0000;\">Comentarios (texto):</p>\n",
    "\n",
    "completar\n",
    "\n",
    "<hr>"
   ]
  },
  {
   "cell_type": "markdown",
   "metadata": {
    "id": "Q7bKd_stBNhl"
   },
   "source": [
    "### Ejercicio 1.3\n",
    "\n",
    "Considere el siguiente estimador alternativo:\n",
    "\n",
    "$$\\tilde{A} = \\frac{1}{2N} \\sum_{n=0}^{N-1} x[n]$$\n",
    "\n",
    "Muestre que $\\tilde{A}$ es inferior a $\\hat{A}$ desde el punto de vista del MSE.\n"
   ]
  },
  {
   "cell_type": "markdown",
   "metadata": {
    "id": "xy3vI3dsBNhl"
   },
   "source": [
    "<hr> \n",
    "<p style=\"font-size:16px; color:#BB0000;\">Respuesta (texto):</p>\n",
    "\n",
    "completar\n",
    "\n",
    "<hr>"
   ]
  },
  {
   "cell_type": "markdown",
   "metadata": {
    "id": "uBxYBamMBNhm"
   },
   "source": [
    "## Ejercicio 2: MVU en distribucion uniforme (35pts)"
   ]
  },
  {
   "cell_type": "markdown",
   "metadata": {
    "id": "BQWyLGJ7BNhm"
   },
   "source": [
    "Se observa el conjunto de datos $\\left \\{ x[0], x[1], \\ldots, x[N-1]) \\right \\}$, donde las muestras $x[n]$ son independientes e idénticamente distribuidas según la distribución uniforme $U(0, \\theta)$. Se quiere encontrar un estimador insesgado de $\\theta$."
   ]
  },
  {
   "cell_type": "markdown",
   "metadata": {
    "id": "HYHZIZICBNhm"
   },
   "source": [
    "### Ejercicio 2.1\n",
    "\n",
    "Se considera la variable aleatoria \n",
    "\n",
    "$T = \\max\\left \\{ x[0], x[1], ..., x[N-1] \\right \\}$  \n",
    "a) Calcular la densidad de probabilidad $p(T)$ de $T$.  \n",
    "b) Calcular la esperanza de $T$.  \n",
    "c) Proponer un estimador insesgado $\\hat{\\theta}$ de $\\theta$ a partir de $T$.\n"
   ]
  },
  {
   "cell_type": "markdown",
   "metadata": {
    "id": "qXVh1JaaBNhm"
   },
   "source": [
    "<hr> \n",
    "<p style=\"font-size:16px; color:#BB0000;\">Respuesta (texto):</p>\n",
    "\n",
    "completar\n",
    "\n",
    "<hr>"
   ]
  },
  {
   "cell_type": "markdown",
   "metadata": {
    "id": "kTP-JUBJBNhn"
   },
   "source": [
    "### Ejercicio 2.2\n",
    "\n",
    "Proponer otro estimador insesgado $\\breve{\\theta}$ de $\\theta$ a partir de la media muestral.  "
   ]
  },
  {
   "cell_type": "markdown",
   "metadata": {
    "id": "Zr5Tky_BBNhn"
   },
   "source": [
    "<hr> \n",
    "<p style=\"font-size:16px; color:#BB0000;\">Respuesta (texto):</p>\n",
    "\n",
    "completar\n",
    "\n",
    "\n",
    "<hr>"
   ]
  },
  {
   "cell_type": "markdown",
   "metadata": {
    "id": "hsao0bRoBNhn"
   },
   "source": [
    "### Ejercicio 2.3\n",
    "\n",
    "1.   Verificar si se cumplen las hipótesis de regularidad de Cramer-Rao.\n",
    "1.   En base a lo anterior, determinar si es posible utilizar CRLB en este caso.  \n",
    "1.   Responder: qué implica lo anterior respecto a la existencia y unicidad de un estimador MVU en este caso?"
   ]
  },
  {
   "cell_type": "markdown",
   "metadata": {
    "id": "msyHq85EBNhn"
   },
   "source": [
    "<hr> \n",
    "<p style=\"font-size:16px; color:#BB0000;\">Respuesta (texto):</p>\n",
    "\n",
    "completar\n",
    "\n",
    "<hr>"
   ]
  },
  {
   "cell_type": "markdown",
   "metadata": {
    "id": "Vys14SQrBNhn"
   },
   "source": [
    "### Ejercicio 2.4\n",
    "\n",
    "Calcular la varianza del estimador $\\hat{\\theta}$"
   ]
  },
  {
   "cell_type": "markdown",
   "metadata": {
    "id": "SsfTbBAdBNhn"
   },
   "source": [
    "<hr> \n",
    "<p style=\"font-size:16px; color:#BB0000;\">Respuesta (texto):</p>\n",
    "\n",
    "completar\n",
    "\n",
    "<hr>"
   ]
  },
  {
   "cell_type": "markdown",
   "metadata": {
    "id": "PtD3RdfdBNhn"
   },
   "source": [
    "## Ejercicio 2.5  \n",
    "\n",
    "Verificar experimentalmente el resultado de la parte anterior estimando  $\\theta$ usando los  estimadores $\\hat{\\theta}$ y $\\breve{\\theta}$ definidos anteriormente sobre $10000$ realizaciones de $\\mathbf{x}$ distribuidas uniformemente entre $0$ y $\\theta=10$. Repetir el experimento para  $N = 1, 2, 4, 100$, mostrando los histogramas correspondientes. Comente los resultados, (por ejemplo, comparar con los resultados obtenidos en el primer ejercicio).\n"
   ]
  },
  {
   "cell_type": "code",
   "execution_count": null,
   "metadata": {
    "id": "Gdy40hOvBNho"
   },
   "outputs": [],
   "source": [
    "#\n",
    "# Respuesta (código)\n",
    "#\n",
    "\n",
    "# completar\n"
   ]
  },
  {
   "cell_type": "markdown",
   "metadata": {
    "id": "byX19jPsBNho"
   },
   "source": [
    "## Ejercicio 3: estimación de fase (35pts)"
   ]
  },
  {
   "cell_type": "markdown",
   "metadata": {
    "id": "ZZt-7AkkBNho"
   },
   "source": [
    "Se desea estimar la fase de una sinusoide de amplitud y frecuencia conocidas\n",
    "contaminada con ruido blanco gaussiano de varianza $\\sigma^2$ a partir de N medidas:  \n",
    "$$ x[n] = A \\cos(2 \\pi f_0 n + \\phi) + w[n], \\;   n=0, 1, ..., N-1$$"
   ]
  },
  {
   "cell_type": "markdown",
   "metadata": {
    "id": "ZyUnShTVBNhp"
   },
   "source": [
    "### Ejercicio 3.1\n",
    "\n",
    "Se puede mostrar fácilmente (aunque con muchas cuentas) que en este caso no es posible encontrar un estimador eficiente (ver libro). Como alternativa se propoe el siguiente estimador $\\theta = [\\cos \\phi, \\sin \\phi]^T$ . Mostrar que este problema puede formularse como un modelo lineal $X = H\\theta + W$, y explicitar $H$."
   ]
  },
  {
   "cell_type": "markdown",
   "metadata": {
    "id": "HOgRpay2BNhp"
   },
   "source": [
    "<hr> \n",
    "<p style=\"font-size:16px; color:#BB0000;\">Respuesta (texto):</p>\n",
    "\n",
    "completar\n",
    "\n",
    "<hr>"
   ]
  },
  {
   "cell_type": "markdown",
   "metadata": {
    "id": "NTe4wMqzBNhp"
   },
   "source": [
    "### Ejercicio 3.2\n",
    "\n",
    "Demostrar que con esta nueva formulación existe un estimador eficiente $\\hat{\\theta}$ de $\\theta$. Expresar $\\hat{\\theta}$ y su varianza en función de $H$ y $\\sigma^2$."
   ]
  },
  {
   "cell_type": "markdown",
   "metadata": {
    "id": "Pu39qAp5BNhp"
   },
   "source": [
    "<hr> \n",
    "<p style=\"font-size:16px; color:#BB0000;\">Respuesta (texto):</p>\n",
    "\n",
    "completar\n",
    "\n",
    "<hr>"
   ]
  },
  {
   "cell_type": "markdown",
   "metadata": {
    "id": "6XW5SP_WBNhp"
   },
   "source": [
    "### Ejercicio 3.4 \n",
    "\n",
    "Se considera ahora el estimador $\\hat{\\phi} = \\arctan\\left( \\frac{\\widehat{\\sin \\phi}}{\\widehat{\\cos \\phi}} \\right) = \\arctan\\left( \\frac{\\hat\\theta[1]}{\\hat\\theta[0]} \\right) = g(\\hat\\theta)$.  \n",
    "*   ¿Es eficiente?  \n",
    "*   ¿Es asintóticamente eficiente?   \n",
    "\n",
    "**Justifique ambas respuestas**"
   ]
  },
  {
   "cell_type": "markdown",
   "metadata": {
    "id": "ygAFd4smBNhp"
   },
   "source": [
    "<hr> \n",
    "<p style=\"font-size:16px; color:#BB0000;\">Respuesta (texto):</p>\n",
    "\n",
    "completar\n",
    "\n",
    "<hr>"
   ]
  },
  {
   "cell_type": "markdown",
   "metadata": {
    "id": "J9CaUNy7BNhq"
   },
   "source": [
    "### Ejercicio 3.5\n",
    "\n",
    "Verificar experimentalmente los resultados para $A = 1,\\; f_0 = 1/8,\\; \\phi = \\pi/6,\\; \\sigma^2 = 5$ y para N=100, 500, 1000, 5000, 10000.  \n",
    "a) Simular $\\textbf{x}$ y calcular numéricamente los estimadores de $\\cos(\\phi)$ y $\\sin(\\phi)$  repitiendo el experimento M = 10000 veces para poder obtener la estadı́stica de los estimadores.  \n",
    "b) A partir de los estimadores de $\\cos(\\phi)$ y $\\sin(\\phi)$, calcular $\\hat{\\phi}$ y calcular su varianza empı́rica para el rango de valores de N.  \n",
    "c) Comparar con la cota de Cramer-Rao calculada en la parte 1 y comentar los resultados.  \n"
   ]
  },
  {
   "cell_type": "code",
   "execution_count": null,
   "metadata": {
    "id": "OLCOMoWEBNhq"
   },
   "outputs": [],
   "source": [
    "# Respuesta (código)"
   ]
  }
 ],
 "metadata": {
  "colab": {
   "provenance": []
  },
  "kernelspec": {
   "display_name": "Python 3 (ipykernel)",
   "language": "python",
   "name": "python3"
  },
  "language_info": {
   "codemirror_mode": {
    "name": "ipython",
    "version": 3
   },
   "file_extension": ".py",
   "mimetype": "text/x-python",
   "name": "python",
   "nbconvert_exporter": "python",
   "pygments_lexer": "ipython3",
   "version": "3.10.6"
  }
 },
 "nbformat": 4,
 "nbformat_minor": 1
}
